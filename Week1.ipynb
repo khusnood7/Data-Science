{
 "cells": [
  {
   "cell_type": "markdown",
   "id": "6d587384-ca43-4413-bfab-5987f41fe5db",
   "metadata": {
    "tags": []
   },
   "source": [
    "# Print"
   ]
  },
  {
   "cell_type": "code",
   "execution_count": 19,
   "id": "db321aea-5fc6-4061-8b19-f589f6d117e9",
   "metadata": {},
   "outputs": [
    {
     "name": "stdout",
     "output_type": "stream",
     "text": [
      "Hello World\n",
      "This is my first hello world code\n"
     ]
    }
   ],
   "source": [
    "print(\"Hello World\")\n",
    "print(\"This is my first hello world code\")"
   ]
  },
  {
   "cell_type": "markdown",
   "id": "53417a4b-f6b3-43e8-bbf4-2474265941cf",
   "metadata": {},
   "source": [
    "# Variables"
   ]
  },
  {
   "cell_type": "code",
   "execution_count": 3,
   "id": "01389686-6a6f-4575-9f0b-4160702a7315",
   "metadata": {},
   "outputs": [],
   "source": [
    "Fname = \"Khus\"\n",
    "Lname = \"Nood\"\n",
    "Email = \"khusnood1922@gmail.com\"\n",
    "PhoneNo = \"+91 96258 35706\"\n",
    "City = \"Hyderabad\""
   ]
  },
  {
   "cell_type": "markdown",
   "id": "d6a5d4d4-970f-4c8d-8eda-a063a418be2f",
   "metadata": {},
   "source": [
    "# Types of data"
   ]
  },
  {
   "cell_type": "code",
   "execution_count": 7,
   "id": "4cac3ae3-09eb-4798-b808-266a12bc1815",
   "metadata": {},
   "outputs": [
    {
     "data": {
      "text/plain": [
       "int"
      ]
     },
     "execution_count": 7,
     "metadata": {},
     "output_type": "execute_result"
    }
   ],
   "source": [
    "RandomNumber = 234\n",
    "RandomName = \"John Doe\"\n",
    "condition = 18 == 19 \n",
    "\n",
    "type(RandomNumber)\n",
    "#type(RandomName)\n",
    "#type(condition)\n",
    "\n",
    "#Remove Hash to check DataType"
   ]
  },
  {
   "cell_type": "markdown",
   "id": "ef6231dd-2544-49b5-b80e-9af3287c653e",
   "metadata": {},
   "source": [
    "# Floating Number "
   ]
  },
  {
   "cell_type": "code",
   "execution_count": 9,
   "id": "79b5e55b-6298-4e05-9cbb-652103ef41ea",
   "metadata": {},
   "outputs": [
    {
     "data": {
      "text/plain": [
       "float"
      ]
     },
     "execution_count": 9,
     "metadata": {},
     "output_type": "execute_result"
    }
   ],
   "source": [
    "TotalAmount = 360.4566733000\n",
    "type(TotalAmount)"
   ]
  },
  {
   "cell_type": "markdown",
   "id": "1e65c25c-5ed4-47b7-bd7a-8487a819e629",
   "metadata": {},
   "source": [
    "# Complex Number"
   ]
  },
  {
   "cell_type": "code",
   "execution_count": 12,
   "id": "9bac3491-e67e-4639-b02f-010dbd144196",
   "metadata": {},
   "outputs": [
    {
     "data": {
      "text/plain": [
       "complex"
      ]
     },
     "execution_count": 12,
     "metadata": {},
     "output_type": "execute_result"
    }
   ],
   "source": [
    "a = 2345 + 4667j\n",
    "type(a)"
   ]
  },
  {
   "cell_type": "code",
   "execution_count": 15,
   "id": "94e8d639-35f3-4dbc-96c0-a5f34b27d720",
   "metadata": {},
   "outputs": [
    {
     "data": {
      "text/plain": [
       "4667.0"
      ]
     },
     "execution_count": 15,
     "metadata": {},
     "output_type": "execute_result"
    }
   ],
   "source": [
    "a.imag"
   ]
  },
  {
   "cell_type": "markdown",
   "id": "2aae62dc-f733-4389-84ea-69fd67f15fa5",
   "metadata": {},
   "source": [
    "# Input & TypeCasting"
   ]
  },
  {
   "cell_type": "code",
   "execution_count": 18,
   "id": "2683d10e-3cc2-4056-8d2d-c792e51ceb55",
   "metadata": {},
   "outputs": [
    {
     "name": "stdin",
     "output_type": "stream",
     "text": [
      " Khusnood\n",
      "So your amount is  200\n"
     ]
    }
   ],
   "source": [
    "inputYourName = input()\n",
    "inputYourAmount = int(input(\"So your amount is \"))"
   ]
  },
  {
   "cell_type": "markdown",
   "id": "d2867c30-0c82-41fc-bade-fa15e97c1584",
   "metadata": {},
   "source": [
    "# Concatenate"
   ]
  },
  {
   "cell_type": "code",
   "execution_count": null,
   "id": "e7ea0f82-bf0c-44d6-8d65-d546723392fb",
   "metadata": {},
   "outputs": [
    {
     "data": {
      "text/plain": [
       "'u'"
      ]
     },
     "execution_count": 3,
     "metadata": {},
     "output_type": "execute_result"
    }
   ],
   "source": [
    "a = ('Khus' + ' Nood' + ' khusnood1922@gmail.com' + ' +91 96258 35706' + ' Hyderabad')\n",
    "\n",
    "print(a)"
   ]
  }
 ],
 "metadata": {
  "kernelspec": {
   "display_name": "Python 3 (ipykernel)",
   "language": "python",
   "name": "python3"
  },
  "language_info": {
   "codemirror_mode": {
    "name": "ipython",
    "version": 3
   },
   "file_extension": ".py",
   "mimetype": "text/x-python",
   "name": "python",
   "nbconvert_exporter": "python",
   "pygments_lexer": "ipython3",
   "version": "3.10.8"
  }
 },
 "nbformat": 4,
 "nbformat_minor": 5
}
