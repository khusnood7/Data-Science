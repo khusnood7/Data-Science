{
 "cells": [
  {
   "cell_type": "markdown",
   "id": "bea063fa-2cba-452f-81f7-ec2818807dc6",
   "metadata": {},
   "source": [
    "Oops: Stands for object programming system"
   ]
  },
  {
   "cell_type": "code",
   "execution_count": 2,
   "id": "fb9afaac-e956-4b33-871b-32884243832f",
   "metadata": {},
   "outputs": [
    {
     "data": {
      "text/plain": [
       "(999797978, 'mintu@gmail.com', 456, (999797978, 'mintu@gmail.com', 456))"
      ]
     },
     "execution_count": 2,
     "metadata": {},
     "output_type": "execute_result"
    }
   ],
   "source": [
    "class contact_details:\n",
    "    \n",
    "    def __init__(self, phone_number, email_id, student_id):\n",
    "        self.phone_number = phone_number\n",
    "        self.email_id = email_id\n",
    "        self.student_id = student_id\n",
    "        \n",
    "    def return_student_details(self):\n",
    "        return self.phone_number, self.email_id, self.student_id\n",
    "\n",
    "# Now define rohan\n",
    "rohan = contact_details(999797978, \"mintu@gmail.com\", 456)\n",
    "\n",
    "# Now we can use rohan's methods\n",
    "rohan_phone_number = rohan.phone_number\n",
    "rohan_email_id = rohan.email_id\n",
    "rohan_student_id = rohan.student_id\n",
    "rohan_details = rohan.return_student_details()\n",
    "\n",
    "rohan_phone_number, rohan_email_id, rohan_student_id, rohan_details\n"
   ]
  },
  {
   "cell_type": "code",
   "execution_count": null,
   "id": "b4b7b5a4-cd0d-4e08-83b9-a109309aa1fe",
   "metadata": {},
   "outputs": [],
   "source": []
  },
  {
   "cell_type": "code",
   "execution_count": null,
   "id": "df052614-26e6-473e-9269-2d8c39a6ed04",
   "metadata": {},
   "outputs": [],
   "source": []
  },
  {
   "cell_type": "code",
   "execution_count": null,
   "id": "8d4308cf-846c-4eeb-830f-b80cdf84ac14",
   "metadata": {},
   "outputs": [],
   "source": []
  },
  {
   "cell_type": "code",
   "execution_count": null,
   "id": "47d39e72-b6aa-44ad-a40a-0baa99357741",
   "metadata": {},
   "outputs": [],
   "source": []
  },
  {
   "cell_type": "code",
   "execution_count": null,
   "id": "b16dccd6-3a28-4537-953a-9706e093eb67",
   "metadata": {},
   "outputs": [],
   "source": []
  },
  {
   "cell_type": "code",
   "execution_count": null,
   "id": "e04d4ed0-2e10-46a7-98a4-60bba60a923f",
   "metadata": {},
   "outputs": [],
   "source": []
  },
  {
   "cell_type": "code",
   "execution_count": null,
   "id": "d871fe25-4afe-4d2d-a491-d51ee3be2754",
   "metadata": {},
   "outputs": [],
   "source": []
  },
  {
   "cell_type": "code",
   "execution_count": null,
   "id": "b8d66c10-3c6f-473f-8ba2-a4813efe4a97",
   "metadata": {},
   "outputs": [],
   "source": []
  },
  {
   "cell_type": "code",
   "execution_count": null,
   "id": "c6d8e5d3-9729-4b86-8694-a842b16c3693",
   "metadata": {},
   "outputs": [],
   "source": []
  },
  {
   "cell_type": "code",
   "execution_count": null,
   "id": "8bf34994-82f7-4c18-8734-46cc8f212d0b",
   "metadata": {},
   "outputs": [],
   "source": []
  },
  {
   "cell_type": "code",
   "execution_count": null,
   "id": "f7fd562e-ea6c-456a-9426-d011403f750a",
   "metadata": {},
   "outputs": [],
   "source": []
  }
 ],
 "metadata": {
  "kernelspec": {
   "display_name": "Python 3 (ipykernel)",
   "language": "python",
   "name": "python3"
  },
  "language_info": {
   "codemirror_mode": {
    "name": "ipython",
    "version": 3
   },
   "file_extension": ".py",
   "mimetype": "text/x-python",
   "name": "python",
   "nbconvert_exporter": "python",
   "pygments_lexer": "ipython3",
   "version": "3.10.8"
  }
 },
 "nbformat": 4,
 "nbformat_minor": 5
}
