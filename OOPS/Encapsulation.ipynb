{
 "cells": [
  {
   "cell_type": "code",
   "execution_count": 5,
   "id": "8f6ffbad-52fc-4606-8d91-f6197bdfc862",
   "metadata": {},
   "outputs": [],
   "source": [
    "class car: \n",
    "    \n",
    "    def __init__(self , year , make , model ,speed) :\n",
    "        self.__year = year\n",
    "        self.__make = make \n",
    "        self.__model = model\n",
    "        self.__speed = 0 # \"__\" that thing make your varible private\n",
    "        \n",
    "    def set_speed(self, speed) :\n",
    "        self.__speed = 0 if speed < 0 else speed"
   ]
  },
  {
   "cell_type": "code",
   "execution_count": 6,
   "id": "5d4a90e1-2a2f-459c-a88a-9a9dace0b7fc",
   "metadata": {},
   "outputs": [],
   "source": [
    "obj_car = car(1823, \"Ford\", \"RX-2344\", 20)"
   ]
  },
  {
   "cell_type": "code",
   "execution_count": 10,
   "id": "b88afd19-22bb-4297-a9bf-8c8b9767a5c6",
   "metadata": {},
   "outputs": [],
   "source": [
    "obj_car._car__year = 3453"
   ]
  },
  {
   "cell_type": "code",
   "execution_count": 11,
   "id": "6f710ee8-3ffa-441f-a376-713c01e5ec51",
   "metadata": {},
   "outputs": [
    {
     "data": {
      "text/plain": [
       "3453"
      ]
     },
     "execution_count": 11,
     "metadata": {},
     "output_type": "execute_result"
    }
   ],
   "source": [
    "obj_car._car__year"
   ]
  },
  {
   "cell_type": "code",
   "execution_count": 16,
   "id": "4303bce3-bc0b-409a-89e6-8353f6a1e84f",
   "metadata": {},
   "outputs": [],
   "source": [
    "class bank_account:\n",
    "    def __init__(self , balance):\n",
    "        self.__balance = balance \n",
    "        \n",
    "    def deposit(self , amount) :\n",
    "        self.__balance = self.__balance + amount\n",
    "        \n",
    "    def withdraw(self , amount) :\n",
    "        if self.__balance >= amount:\n",
    "            self.__balance = self.__balance -amount\n",
    "            return True\n",
    "        elif amount < 1000:\n",
    "            print(\"We can't withdraw your amount, Because that's too less\")\n",
    "        else: \n",
    "            False\n",
    "            \n",
    "    def clear_balance(self) :\n",
    "        self.__balance = 0\n",
    "            \n",
    "    def get_balance(self) :\n",
    "        return self.__balance"
   ]
  },
  {
   "cell_type": "code",
   "execution_count": 19,
   "id": "232ad017-1ed5-4dfb-9291-eb82b761359d",
   "metadata": {},
   "outputs": [],
   "source": [
    "obj_bank_account = bank_account(1000)"
   ]
  },
  {
   "cell_type": "code",
   "execution_count": 4,
   "id": "ee748379-bd76-4e8c-8b51-e424d3c37214",
   "metadata": {},
   "outputs": [
    {
     "data": {
      "text/plain": [
       "1000"
      ]
     },
     "execution_count": 4,
     "metadata": {},
     "output_type": "execute_result"
    }
   ],
   "source": [
    "obj_bank_account.get_balance()"
   ]
  },
  {
   "cell_type": "code",
   "execution_count": 5,
   "id": "59aa6008-8c40-4620-b81c-7b5bf32ad4f5",
   "metadata": {},
   "outputs": [],
   "source": [
    "obj_bank_account.deposit(400000)"
   ]
  },
  {
   "cell_type": "code",
   "execution_count": 6,
   "id": "769d774e-18cc-4bc8-9906-7d2708cef77d",
   "metadata": {},
   "outputs": [
    {
     "data": {
      "text/plain": [
       "401000"
      ]
     },
     "execution_count": 6,
     "metadata": {},
     "output_type": "execute_result"
    }
   ],
   "source": [
    "obj_bank_account.get_balance()"
   ]
  },
  {
   "cell_type": "code",
   "execution_count": 14,
   "id": "340d44f0-e263-4153-9962-ca14da2d6fb2",
   "metadata": {},
   "outputs": [
    {
     "data": {
      "text/plain": [
       "True"
      ]
     },
     "execution_count": 14,
     "metadata": {},
     "output_type": "execute_result"
    }
   ],
   "source": [
    "obj_bank_account.withdraw(200)"
   ]
  },
  {
   "cell_type": "code",
   "execution_count": 21,
   "id": "71dbf3c4-7431-45ee-a527-e9edc0eb80de",
   "metadata": {},
   "outputs": [],
   "source": [
    "obj_bank_account.clear_balance()"
   ]
  },
  {
   "cell_type": "code",
   "execution_count": 22,
   "id": "7ce46cac-a49c-4bda-85db-65291ada9ec0",
   "metadata": {},
   "outputs": [
    {
     "data": {
      "text/plain": [
       "0"
      ]
     },
     "execution_count": 22,
     "metadata": {},
     "output_type": "execute_result"
    }
   ],
   "source": [
    "obj_bank_account.get_balance()"
   ]
  },
  {
   "cell_type": "code",
   "execution_count": 24,
   "id": "38e4be75-469a-4f40-adea-f1181722e1cb",
   "metadata": {
    "tags": []
   },
   "outputs": [],
   "source": [
    "class bank_account1:\n",
    "    def __init__(self , balance):\n",
    "        self.__balance = balance \n",
    "        self.__minimum_balance = 0\n",
    "        self.__transaction_history = []\n",
    "        self.__interest_rate = 0.01\n",
    "        self.__monthly_fee = 5\n",
    "        self.__overdraft_limit = 0\n",
    "        self.__is_frozen = False\n",
    "\n",
    "    def deposit(self , amount) :\n",
    "        if not self.__is_frozen:\n",
    "            self.__balance = self.__balance + amount\n",
    "            self.__transaction_history.append(('deposit', amount))\n",
    "        \n",
    "    def withdraw(self , amount) :\n",
    "        if not self.__is_frozen and self.__balance + self.__overdraft_limit >= amount:\n",
    "            self.__balance = self.__balance - amount\n",
    "            self.__transaction_history.append(('withdraw', amount))\n",
    "            return True\n",
    "        else: \n",
    "            return False\n",
    "            \n",
    "    def get_balance(self) :\n",
    "        return self.__balance\n",
    "\n",
    "    def clear_balance(self):\n",
    "        self.__balance = 0\n",
    "\n",
    "    def set_minimum_balance(self, amount):\n",
    "        self.__minimum_balance = amount\n",
    "\n",
    "    def get_transaction_history(self):\n",
    "        return self.__transaction_history\n",
    "\n",
    "    def set_interest_rate(self, rate):\n",
    "        self.__interest_rate = rate\n",
    "\n",
    "    def apply_interest(self):\n",
    "        self.__balance += self.__balance * self.__interest_rate\n",
    "\n",
    "    def deduct_monthly_fee(self):\n",
    "        if self.__balance >= self.__monthly_fee:\n",
    "            self.__balance -= self.__monthly_fee\n",
    "            self.__transaction_history.append(('fee', self.__monthly_fee))\n",
    "\n",
    "    def set_overdraft_limit(self, limit):\n",
    "        self.__overdraft_limit = limit\n",
    "\n",
    "    def check_overdraft(self):\n",
    "        return self.__balance < 0\n",
    "\n",
    "    def transfer_funds(self, amount, other_account):\n",
    "        if self.withdraw(amount):\n",
    "            other_account.deposit(amount)\n",
    "\n",
    "    def convert_currency(self, conversion_rate):\n",
    "        self.__balance *= conversion_rate\n",
    "\n",
    "    def freeze_account(self):\n",
    "        self.__is_frozen = True\n",
    "\n",
    "    def unfreeze_account(self):\n",
    "        self.__is_frozen = False\n"
   ]
  },
  {
   "cell_type": "code",
   "execution_count": 52,
   "id": "539d3059-89da-4fe3-b536-b79c691f3369",
   "metadata": {
    "tags": []
   },
   "outputs": [],
   "source": [
    "obj_bank_account_1 = bank_account1(4000)"
   ]
  },
  {
   "cell_type": "code",
   "execution_count": 54,
   "id": "7147f1a0-f843-4e6e-a56c-9720b5597330",
   "metadata": {},
   "outputs": [],
   "source": [
    "obj_bank_account_1.deduct_monthly_fee()"
   ]
  },
  {
   "cell_type": "code",
   "execution_count": 55,
   "id": "cc73b00b-023c-44ba-910e-681ebc273f8b",
   "metadata": {},
   "outputs": [
    {
     "data": {
      "text/plain": [
       "3995"
      ]
     },
     "execution_count": 55,
     "metadata": {},
     "output_type": "execute_result"
    }
   ],
   "source": [
    "obj_bank_account_1.get_balance()"
   ]
  },
  {
   "cell_type": "code",
   "execution_count": 56,
   "id": "67bedb51-fa56-442d-be61-329894fd3436",
   "metadata": {},
   "outputs": [],
   "source": [
    "obj_bank_account_1.set_minimum_balance(500)"
   ]
  },
  {
   "cell_type": "code",
   "execution_count": 60,
   "id": "19c3b414-24ef-4495-b2c3-0bb8c7f63505",
   "metadata": {},
   "outputs": [
    {
     "data": {
      "text/plain": [
       "[('fee', 5), ('deposit', 6000)]"
      ]
     },
     "execution_count": 60,
     "metadata": {},
     "output_type": "execute_result"
    }
   ],
   "source": [
    "obj_bank_account_1.get_transaction_history()"
   ]
  },
  {
   "cell_type": "code",
   "execution_count": 58,
   "id": "dec9f1dc-b2c9-4d33-bf86-6b2cd8588490",
   "metadata": {},
   "outputs": [],
   "source": [
    "obj_bank_account_1.deposit(6000)"
   ]
  },
  {
   "cell_type": "code",
   "execution_count": 59,
   "id": "3189c189-344d-4ad9-8172-c05b63aa44c4",
   "metadata": {
    "tags": []
   },
   "outputs": [
    {
     "data": {
      "text/plain": [
       "9995"
      ]
     },
     "execution_count": 59,
     "metadata": {},
     "output_type": "execute_result"
    }
   ],
   "source": [
    "obj_bank_account_1.get_balance()"
   ]
  },
  {
   "cell_type": "code",
   "execution_count": null,
   "id": "881625e5-5abf-42af-818b-b455f627a66f",
   "metadata": {},
   "outputs": [],
   "source": []
  }
 ],
 "metadata": {
  "kernelspec": {
   "display_name": "Python 3 (ipykernel)",
   "language": "python",
   "name": "python3"
  },
  "language_info": {
   "codemirror_mode": {
    "name": "ipython",
    "version": 3
   },
   "file_extension": ".py",
   "mimetype": "text/x-python",
   "name": "python",
   "nbconvert_exporter": "python",
   "pygments_lexer": "ipython3",
   "version": "3.10.8"
  }
 },
 "nbformat": 4,
 "nbformat_minor": 5
}
