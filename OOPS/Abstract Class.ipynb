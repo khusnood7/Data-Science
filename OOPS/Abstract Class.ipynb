{
 "cells": [
  {
   "cell_type": "code",
   "execution_count": 7,
   "id": "76cb40c5-7b34-455f-813d-c4b83987ed89",
   "metadata": {},
   "outputs": [],
   "source": [
    "import abc \n",
    "\n",
    "\n",
    "class pwskills:\n",
    "    \n",
    "    @abc.abstractmethod\n",
    "    def student_details(self):\n",
    "        pass\n",
    "    \n",
    "    @abc.abstractmethod\n",
    "    def student_marks(self):\n",
    "        pass\n",
    "    \n",
    "    @abc.abstractmethod\n",
    "    def student_assignment(self):\n",
    "        pass\n",
    "    \n",
    "    \n",
    "    "
   ]
  },
  {
   "cell_type": "code",
   "execution_count": 12,
   "id": "f7a2b3cc-a0e2-4b9d-8a79-f9fbde65da37",
   "metadata": {},
   "outputs": [],
   "source": [
    "class data_science(pwskills):\n",
    "    \n",
    "    def student_details(self):\n",
    "        return \"this will return the details of student\"\n",
    "    \n",
    "    def student_marks(self):\n",
    "        return \"this will return the marks\"\n",
    "        \n",
    "    def student_assignment(self):\n",
    "        return \"Submit your DS assignment.\""
   ]
  },
  {
   "cell_type": "code",
   "execution_count": 11,
   "id": "a19a499d-3907-429c-95d0-6c390ffe94bb",
   "metadata": {},
   "outputs": [],
   "source": [
    "class web_dev(pwskills):\n",
    "    \n",
    "    def student_details(self):\n",
    "        return \"Hey here you can get the details of student.\"\n",
    "    \n",
    "    def student_marks(self):\n",
    "        return \"Here's the marks of the student.\"\n",
    "    \n",
    "    def student_assignment(self):\n",
    "        return \"Submit your web dev assignment.\""
   ]
  },
  {
   "cell_type": "code",
   "execution_count": 14,
   "id": "135fec5e-0a74-4ce4-9fcc-4e4e8eb5629a",
   "metadata": {},
   "outputs": [
    {
     "data": {
      "text/plain": [
       "'Submit your DS assignment.'"
      ]
     },
     "execution_count": 14,
     "metadata": {},
     "output_type": "execute_result"
    }
   ],
   "source": [
    "ds = data_science()\n",
    "ds.student_assignment()"
   ]
  },
  {
   "cell_type": "code",
   "execution_count": null,
   "id": "8b09eb30-e938-4215-894f-26cf6f98693a",
   "metadata": {},
   "outputs": [],
   "source": []
  },
  {
   "cell_type": "code",
   "execution_count": null,
   "id": "8a2ba496-d031-4804-b5d3-e386b4833f8f",
   "metadata": {},
   "outputs": [],
   "source": []
  }
 ],
 "metadata": {
  "kernelspec": {
   "display_name": "Python 3 (ipykernel)",
   "language": "python",
   "name": "python3"
  },
  "language_info": {
   "codemirror_mode": {
    "name": "ipython",
    "version": 3
   },
   "file_extension": ".py",
   "mimetype": "text/x-python",
   "name": "python",
   "nbconvert_exporter": "python",
   "pygments_lexer": "ipython3",
   "version": "3.10.8"
  }
 },
 "nbformat": 4,
 "nbformat_minor": 5
}
