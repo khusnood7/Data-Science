{
 "cells": [
  {
   "cell_type": "code",
   "execution_count": 1,
   "id": "53c5a3f5-32e6-4d16-b74b-fde3dd561123",
   "metadata": {},
   "outputs": [],
   "source": [
    "class web_dev:\n",
    "    def syllabus(self):\n",
    "        print(\"That's you web development bootcamp by PWSkills.\")"
   ]
  },
  {
   "cell_type": "code",
   "execution_count": null,
   "id": "b401eab2-01b4-45f0-810d-c32e06a8dc1f",
   "metadata": {},
   "outputs": [],
   "source": [
    "class data_science:\n",
    "    def syllabus(self):\n",
    "        print(\"That's you Data Science bootcamp by PWSkills.\")"
   ]
  },
  {
   "cell_type": "code",
   "execution_count": 10,
   "id": "2f3ce00d-db04-45af-bbef-c9c2df848b19",
   "metadata": {},
   "outputs": [],
   "source": [
    "def class_parcer():\n",
    "    for i in class_obj:\n",
    "        i.syllabus()"
   ]
  },
  {
   "cell_type": "code",
   "execution_count": 13,
   "id": "c12e8b1b-c017-49dc-bc1b-0924e3664ca3",
   "metadata": {},
   "outputs": [],
   "source": [
    "obj_web_dev = web_dev()"
   ]
  },
  {
   "cell_type": "code",
   "execution_count": 14,
   "id": "18bdc18e-5fd0-49e8-84d7-dc1379b2177a",
   "metadata": {},
   "outputs": [],
   "source": [
    "obj_Data_Science = data_science()"
   ]
  },
  {
   "cell_type": "code",
   "execution_count": 15,
   "id": "0afe640c-5074-4023-80f8-b3cf0719c04c",
   "metadata": {},
   "outputs": [],
   "source": [
    "class_obj = [obj_web_dev, obj_Data_Science]"
   ]
  },
  {
   "cell_type": "code",
   "execution_count": 16,
   "id": "12452599-d63e-41cf-b7d4-76acf63d3911",
   "metadata": {},
   "outputs": [
    {
     "name": "stdout",
     "output_type": "stream",
     "text": [
      "That's your web development bootcamp by PWSkills.\n",
      "That's your Data Science bootcamp by PWSkills.\n"
     ]
    }
   ],
   "source": [
    "class_parcer(class_obj)"
   ]
  },
  {
   "cell_type": "code",
   "execution_count": 2,
   "id": "05a30fd2-4f0d-4250-9dc2-52393f1f41e2",
   "metadata": {},
   "outputs": [
    {
     "data": {
      "text/plain": [
       "['Bark!', 'Meow!', 'Chirp!']"
      ]
     },
     "execution_count": 2,
     "metadata": {},
     "output_type": "execute_result"
    }
   ],
   "source": [
    "# Here's a practical example of polymorphism in Python using the animal example I mentioned before:\n",
    "\n",
    "class Animal:\n",
    "    def make_sound(self):\n",
    "        pass\n",
    "\n",
    "class Dog(Animal):\n",
    "    def make_sound(self):\n",
    "        return \"Bark!\"\n",
    "\n",
    "class Cat(Animal):\n",
    "    def make_sound(self):\n",
    "        return \"Meow!\"\n",
    "\n",
    "class Bird(Animal):\n",
    "    def make_sound(self):\n",
    "        return \"Chirp!\"\n",
    "\n",
    "# Let's create some instances of animals\n",
    "dog = Dog()\n",
    "cat = Cat()\n",
    "bird = Bird()\n",
    "\n",
    "# Now we can make each animal sound\n",
    "sounds = [animal.make_sound() for animal in (dog, cat, bird)]\n",
    "\n",
    "sounds\n"
   ]
  }
 ],
 "metadata": {
  "kernelspec": {
   "display_name": "Python 3 (ipykernel)",
   "language": "python",
   "name": "python3"
  },
  "language_info": {
   "codemirror_mode": {
    "name": "ipython",
    "version": 3
   },
   "file_extension": ".py",
   "mimetype": "text/x-python",
   "name": "python",
   "nbconvert_exporter": "python",
   "pygments_lexer": "ipython3",
   "version": "3.10.8"
  }
 },
 "nbformat": 4,
 "nbformat_minor": 5
}
