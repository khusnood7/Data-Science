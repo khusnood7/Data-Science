{
 "cells": [
  {
   "cell_type": "code",
   "execution_count": null,
   "id": "fe1066f2-d6f1-4409-bc68-07ddae7bfaaa",
   "metadata": {},
   "outputs": [],
   "source": [
    "class parent:\n",
    "    \n",
    "    def test_parent(self): \n",
    "        print(\"That's an parent class of all\")"
   ]
  },
  {
   "cell_type": "code",
   "execution_count": null,
   "id": "99a35ce6-c59c-4ebc-bca3-5beecd052b5a",
   "metadata": {},
   "outputs": [],
   "source": [
    "class"
   ]
  },
  {
   "cell_type": "code",
   "execution_count": 4,
   "id": "ede05093-9560-40cd-9a4b-99a4e224a32b",
   "metadata": {},
   "outputs": [],
   "source": [
    "class class1:\n",
    "    def test_class1(self):\n",
    "        print(\"Hey, That's class 1\")"
   ]
  },
  {
   "cell_type": "code",
   "execution_count": 5,
   "id": "1ae16c9c-d674-42d4-ba86-a3a98093313c",
   "metadata": {},
   "outputs": [],
   "source": [
    "class class2(class1):\n",
    "    def test_class2(self):\n",
    "        print(\"Hey, That's class 2\")"
   ]
  },
  {
   "cell_type": "code",
   "execution_count": 6,
   "id": "f4b7a374-89d2-472c-9da4-cc586f5d358e",
   "metadata": {},
   "outputs": [],
   "source": [
    "class class3(class2):\n",
    "    def test_class3(self):\n",
    "        print(\"Hey that's class 3\")"
   ]
  },
  {
   "cell_type": "code",
   "execution_count": 7,
   "id": "7804ac14-1b64-4f07-92c9-b729b9235ee1",
   "metadata": {},
   "outputs": [],
   "source": [
    "obj_class = class3()"
   ]
  },
  {
   "cell_type": "code",
   "execution_count": 10,
   "id": "50b310b4-8dee-4dcc-8bc2-d7885d6a79f6",
   "metadata": {},
   "outputs": [
    {
     "name": "stdout",
     "output_type": "stream",
     "text": [
      "Hey, That's class 2\n"
     ]
    }
   ],
   "source": [
    "obj_class.test_class2()"
   ]
  }
 ],
 "metadata": {
  "kernelspec": {
   "display_name": "Python 3 (ipykernel)",
   "language": "python",
   "name": "python3"
  },
  "language_info": {
   "codemirror_mode": {
    "name": "ipython",
    "version": 3
   },
   "file_extension": ".py",
   "mimetype": "text/x-python",
   "name": "python",
   "nbconvert_exporter": "python",
   "pygments_lexer": "ipython3",
   "version": "3.10.8"
  }
 },
 "nbformat": 4,
 "nbformat_minor": 5
}
